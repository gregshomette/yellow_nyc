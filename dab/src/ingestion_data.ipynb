{
 "cells": [
  {
   "cell_type": "markdown",
   "metadata": {
    "application/vnd.databricks.v1+cell": {
     "cellMetadata": {},
     "inputWidgets": {},
     "nuid": "ee353e42-ff58-4955-9608-12865bd0950e",
     "showTitle": false,
     "tableResultSettingsMap": {},
     "title": ""
    }
   },
   "source": [
    "# Ingestion Data"
   ]
  },
  {
   "cell_type": "code",
   "execution_count": 0,
   "metadata": {
    "application/vnd.databricks.v1+cell": {
     "cellMetadata": {
      "byteLimit": 2048000,
      "rowLimit": 10000
     },
     "inputWidgets": {},
     "nuid": "f3182992-cf31-4d80-a414-1ffec0759054",
     "showTitle": true,
     "tableResultSettingsMap": {},
     "title": "Parameters for job"
    }
   },
   "outputs": [],
   "source": [
    "# For debugging\n",
    "dbutils.widgets.text('puYear', defaultValue='2019')\n",
    "dbutils.widgets.text('puMonth', defaultValue='1')\n",
    "dbutils.widgets.text('passengerCount', defaultValue='0')\n",
    "dbutils.widgets.text('totalAmount', defaultValue='10')\n",
    "dbutils.widgets.text('tripDistance', defaultValue='1')\n",
    "\n",
    "\n",
    "puYear = int(dbutils.widgets.get('puYear'))\n",
    "puMonth = int(dbutils.widgets.get('puMonth'))\n",
    "passengerCount = int(dbutils.widgets.get('passengerCount'))\n",
    "totalAmount = int(dbutils.widgets.get('totalAmount'))\n",
    "tripDistance = int(dbutils.widgets.get('tripDistance'))\n",
    "\n",
    "print(f\"puYear: {puYear}; type: {type(puYear)}\")\n",
    "print(f\"puMonth: {puMonth}; type: {type(puMonth)}\")\n",
    "print(f\"passengerCount: {passengerCount}; type: {type(passengerCount)}\")\n",
    "print(f\"totalAmount: {totalAmount}; type: {type(totalAmount)}\")\n",
    "print(f\"tripDistance: {tripDistance}; type: {type(tripDistance)}\")"
   ]
  },
  {
   "cell_type": "code",
   "execution_count": 0,
   "metadata": {
    "application/vnd.databricks.v1+cell": {
     "cellMetadata": {
      "byteLimit": 2048000,
      "rowLimit": 10000
     },
     "inputWidgets": {},
     "nuid": "560d93d5-6a15-49da-9d36-2e28c39ac6e8",
     "showTitle": true,
     "tableResultSettingsMap": {},
     "title": "source path"
    }
   },
   "outputs": [],
   "source": [
    "df = spark.read.parquet(\"/Volumes/main/raw/yellow_nyc/yellow/\") \\\n",
    "      .filter(f\"puYear = {puYear} AND puMonth = {puMonth}\")"
   ]
  },
  {
   "cell_type": "code",
   "execution_count": 0,
   "metadata": {
    "application/vnd.databricks.v1+cell": {
     "cellMetadata": {
      "byteLimit": 2048000,
      "rowLimit": 10000
     },
     "inputWidgets": {},
     "nuid": "27d00743-471d-41ca-a83e-6ffaed7c386e",
     "showTitle": false,
     "tableResultSettingsMap": {},
     "title": ""
    }
   },
   "outputs": [],
   "source": [
    "df_filtered = df.write.parquet(f\"/Volumes/main/filtered/yellow_filtered/{puYear}_{puMonth}\", mode=\"overwrite\")"
   ]
  },
  {
   "cell_type": "code",
   "execution_count": 0,
   "metadata": {
    "application/vnd.databricks.v1+cell": {
     "cellMetadata": {
      "byteLimit": 2048000,
      "rowLimit": 10000
     },
     "inputWidgets": {},
     "nuid": "e402c2df-9b29-47de-9928-2680bde5b9f9",
     "showTitle": false,
     "tableResultSettingsMap": {},
     "title": ""
    }
   },
   "outputs": [],
   "source": [
    "dataset_config = {\n",
    "  \"filter\": [\n",
    "    {\n",
    "      \"filtered_path\": f\"/Volumes/main/filtered/yellow_filtered/{puYear}_{puMonth}\",\n",
    "    }\n",
    "  ]\n",
    "}\n"
   ]
  },
  {
   "cell_type": "code",
   "execution_count": 0,
   "metadata": {
    "application/vnd.databricks.v1+cell": {
     "cellMetadata": {
      "byteLimit": 2048000,
      "rowLimit": 10000
     },
     "inputWidgets": {},
     "nuid": "a4394406-48a6-43f6-9a04-6a5e1115f4a5",
     "showTitle": false,
     "tableResultSettingsMap": {},
     "title": ""
    }
   },
   "outputs": [],
   "source": [
    "display(dataset_config)"
   ]
  },
  {
   "cell_type": "code",
   "execution_count": 0,
   "metadata": {
    "application/vnd.databricks.v1+cell": {
     "cellMetadata": {
      "byteLimit": 2048000,
      "rowLimit": 10000
     },
     "inputWidgets": {},
     "nuid": "17b8d24f-1b66-4c0d-9c9f-3286228e54f9",
     "showTitle": false,
     "tableResultSettingsMap": {},
     "title": ""
    }
   },
   "outputs": [],
   "source": [
    "# Dataset configuration\n",
    "dbutils.jobs.taskValues.set(key = \"dataset_config_info\", value = dataset_config)"
   ]
  }
 ],
 "metadata": {
  "application/vnd.databricks.v1+notebook": {
   "computePreferences": null,
   "dashboards": [],
   "environmentMetadata": null,
   "language": "python",
   "notebookMetadata": {
    "pythonIndentUnit": 2
   },
   "notebookName": "ingestion_data",
   "widgets": {
    "passengerCount": {
     "currentValue": "0",
     "nuid": "5461c3e0-c159-4c01-bf80-76881ad469dd",
     "typedWidgetInfo": {
      "autoCreated": false,
      "defaultValue": "0",
      "label": null,
      "name": "passengerCount",
      "options": {
       "validationRegex": null,
       "widgetDisplayType": "Text"
      },
      "parameterDataType": "String"
     },
     "widgetInfo": {
      "defaultValue": "0",
      "label": null,
      "name": "passengerCount",
      "options": {
       "autoCreated": null,
       "validationRegex": null,
       "widgetType": "text"
      },
      "widgetType": "text"
     }
    },
    "puMonth": {
     "currentValue": "1",
     "nuid": "2ffb1c2a-e2af-4ab1-b31d-8e2d49cd433f",
     "typedWidgetInfo": {
      "autoCreated": false,
      "defaultValue": "1",
      "label": null,
      "name": "puMonth",
      "options": {
       "validationRegex": null,
       "widgetDisplayType": "Text"
      },
      "parameterDataType": "String"
     },
     "widgetInfo": {
      "defaultValue": "1",
      "label": null,
      "name": "puMonth",
      "options": {
       "autoCreated": null,
       "validationRegex": null,
       "widgetType": "text"
      },
      "widgetType": "text"
     }
    },
    "puYear": {
     "currentValue": "2019",
     "nuid": "6b23e4df-50d0-4ea3-8442-07e7356364d2",
     "typedWidgetInfo": {
      "autoCreated": false,
      "defaultValue": "2019",
      "label": null,
      "name": "puYear",
      "options": {
       "validationRegex": null,
       "widgetDisplayType": "Text"
      },
      "parameterDataType": "String"
     },
     "widgetInfo": {
      "defaultValue": "2019",
      "label": null,
      "name": "puYear",
      "options": {
       "autoCreated": null,
       "validationRegex": null,
       "widgetType": "text"
      },
      "widgetType": "text"
     }
    },
    "totalAmount": {
     "currentValue": "10",
     "nuid": "b38420e1-b944-4e71-8e86-551816be8efd",
     "typedWidgetInfo": {
      "autoCreated": false,
      "defaultValue": "10",
      "label": null,
      "name": "totalAmount",
      "options": {
       "validationRegex": null,
       "widgetDisplayType": "Text"
      },
      "parameterDataType": "String"
     },
     "widgetInfo": {
      "defaultValue": "10",
      "label": null,
      "name": "totalAmount",
      "options": {
       "autoCreated": null,
       "validationRegex": null,
       "widgetType": "text"
      },
      "widgetType": "text"
     }
    },
    "tripDistance": {
     "currentValue": "1",
     "nuid": "d84dbbec-945c-4760-bd02-6112f9b0ca9c",
     "typedWidgetInfo": {
      "autoCreated": false,
      "defaultValue": "1",
      "label": null,
      "name": "tripDistance",
      "options": {
       "validationRegex": null,
       "widgetDisplayType": "Text"
      },
      "parameterDataType": "String"
     },
     "widgetInfo": {
      "defaultValue": "1",
      "label": null,
      "name": "tripDistance",
      "options": {
       "autoCreated": null,
       "validationRegex": null,
       "widgetType": "text"
      },
      "widgetType": "text"
     }
    }
   }
  },
  "kernelspec": {
   "display_name": "Python 3",
   "language": "python",
   "name": "python3"
  },
  "language_info": {
   "name": "python"
  }
 },
 "nbformat": 4,
 "nbformat_minor": 0
}
