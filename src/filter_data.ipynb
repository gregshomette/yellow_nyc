{
 "cells": [
  {
   "cell_type": "code",
   "execution_count": 0,
   "metadata": {
    "application/vnd.databricks.v1+cell": {
     "cellMetadata": {
      "byteLimit": 2048000,
      "rowLimit": 10000
     },
     "inputWidgets": {},
     "nuid": "a89f27c5-4222-45a4-bf6a-4880794257fb",
     "showTitle": true,
     "tableResultSettingsMap": {},
     "title": "Debug values"
    }
   },
   "outputs": [],
   "source": [
    "dataset_config_debug = {\n",
    "  \"filter\": [\n",
    "    {\n",
    "      \"puYear\": 2019,\n",
    "      \"puMonth\": 1,\n",
    "      \"filtered_path\": f\"/Volumes/main/filtered/yellow_filtered/2019_1\",\n",
    "      \"passengerCount\": 0,\n",
    "      \"totalAmount\": 10,\n",
    "      \"tripDistance\": 1\n",
    "    }\n",
    "  ]\n",
    "}\n"
   ]
  },
  {
   "cell_type": "code",
   "execution_count": 0,
   "metadata": {
    "application/vnd.databricks.v1+cell": {
     "cellMetadata": {
      "byteLimit": 2048000,
      "rowLimit": 10000
     },
     "inputWidgets": {},
     "nuid": "a59d688e-2772-4197-a705-8bbe659b4651",
     "showTitle": false,
     "tableResultSettingsMap": {},
     "title": ""
    }
   },
   "outputs": [],
   "source": [
    "model_config = dbutils.jobs.taskValues.get(taskKey= \"ingestion_data\", key = \"dataset_config_info\", debugValue = dataset_config_debug)\n",
    "\n",
    "filtered_path = model_config[\"filter\"][0][\"filtered_path\"]\n",
    "\n",
    "# For Debug you need to uncomment these values\n",
    "# puYear = model_config[\"filter\"][0][\"puYear\"]\n",
    "# puMonth = model_config[\"filter\"][0][\"puMonth\"]\n",
    "# passengerCount = model_config[\"filter\"][0][\"passengerCount\"]\n",
    "# totalAmount = model_config[\"filter\"][0][\"totalAmount\"]\n",
    "# tripDistance = model_config[\"filter\"][0][\"tripDistance\"]\n",
    "\n",
    "\n",
    "puYear = int(dbutils.widgets.get('puYear'))\n",
    "puMonth = int(dbutils.widgets.get('puMonth'))\n",
    "passengerCount = int(dbutils.widgets.get('passengerCount'))\n",
    "totalAmount = int(dbutils.widgets.get('totalAmount'))\n",
    "tripDistance = int(dbutils.widgets.get('tripDistance'))"
   ]
  },
  {
   "cell_type": "code",
   "execution_count": 0,
   "metadata": {
    "application/vnd.databricks.v1+cell": {
     "cellMetadata": {
      "byteLimit": 2048000,
      "rowLimit": 10000
     },
     "inputWidgets": {},
     "nuid": "9a4d3a57-8409-4274-97df-60df6c0fee84",
     "showTitle": false,
     "tableResultSettingsMap": {},
     "title": ""
    }
   },
   "outputs": [],
   "source": [
    "df = spark.read.parquet(filtered_path)"
   ]
  },
  {
   "cell_type": "code",
   "execution_count": 0,
   "metadata": {
    "application/vnd.databricks.v1+cell": {
     "cellMetadata": {
      "byteLimit": 2048000,
      "rowLimit": 10000
     },
     "inputWidgets": {},
     "nuid": "dd567c75-2677-4f8d-b66e-dadc77087ddf",
     "showTitle": false,
     "tableResultSettingsMap": {},
     "title": ""
    }
   },
   "outputs": [],
   "source": [
    "processed_df = df.where(\n",
    "  (df.passengerCount > passengerCount) &\n",
    "  (df.totalAmount > totalAmount) &\n",
    "  (df.tripDistance > tripDistance)\n",
    ") \n",
    "display(processed_df)"
   ]
  },
  {
   "cell_type": "code",
   "execution_count": 0,
   "metadata": {
    "application/vnd.databricks.v1+cell": {
     "cellMetadata": {
      "byteLimit": 2048000,
      "rowLimit": 10000
     },
     "inputWidgets": {},
     "nuid": "8af6ba5e-4ef0-4d10-8d69-de6c40e6cbc0",
     "showTitle": false,
     "tableResultSettingsMap": {},
     "title": ""
    }
   },
   "outputs": [],
   "source": [
    "# Write data to processed\n",
    "processed_path = f\"/Volumes/main/processed/yellow_processed/{puYear}_{puMonth}\"\n",
    "processed_df.write.parquet(processed_path, mode=\"overwrite\")"
   ]
  },
  {
   "cell_type": "code",
   "execution_count": 0,
   "metadata": {
    "application/vnd.databricks.v1+cell": {
     "cellMetadata": {
      "byteLimit": 2048000,
      "rowLimit": 10000
     },
     "inputWidgets": {},
     "nuid": "0c8c2f1d-7995-494f-b510-a32db54c2f88",
     "showTitle": false,
     "tableResultSettingsMap": {},
     "title": ""
    }
   },
   "outputs": [],
   "source": [
    "# Passing processing path to next task\n",
    "dbutils.jobs.taskValues.set(key = \"processed_path\", value = processed_path)"
   ]
  },
  {
   "cell_type": "code",
   "execution_count": 0,
   "metadata": {
    "application/vnd.databricks.v1+cell": {
     "cellMetadata": {},
     "inputWidgets": {},
     "nuid": "1798523b-3fea-4663-9d4c-b10c5138ce94",
     "showTitle": false,
     "tableResultSettingsMap": {},
     "title": ""
    }
   },
   "outputs": [],
   "source": []
  }
 ],
 "metadata": {
  "application/vnd.databricks.v1+notebook": {
   "computePreferences": null,
   "dashboards": [],
   "environmentMetadata": {
    "base_environment": "",
    "environment_version": "2"
   },
   "language": "python",
   "notebookMetadata": {
    "pythonIndentUnit": 4
   },
   "notebookName": "filter_data",
   "widgets": {}
  },
  "language_info": {
   "name": "python"
  }
 },
 "nbformat": 4,
 "nbformat_minor": 0
}
